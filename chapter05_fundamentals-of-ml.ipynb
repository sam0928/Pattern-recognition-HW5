{
  "cells": [
    {
      "cell_type": "markdown",
      "metadata": {
        "id": "beN3SnLqI0VE"
      },
      "source": [
        "This is a companion notebook for the book [Deep Learning with Python, Second Edition](https://www.manning.com/books/deep-learning-with-python-second-edition?a_aid=keras&a_bid=76564dff). For readability, it only contains runnable code blocks and section titles, and omits everything else in the book: text paragraphs, figures, and pseudocode.\n",
        "\n",
        "**If you want to be able to follow what's going on, I recommend reading the notebook side by side with your copy of the book.**\n",
        "\n",
        "This notebook was generated for TensorFlow 2.6."
      ]
    },
    {
      "cell_type": "markdown",
      "metadata": {
        "id": "SFKbH6sfI0VI"
      },
      "source": [
        "# Fundamentals of machine learning"
      ]
    },
    {
      "cell_type": "markdown",
      "metadata": {
        "id": "aLQwxsZkI0VJ"
      },
      "source": [
        "## Generalization: The goal of machine learning"
      ]
    },
    {
      "cell_type": "markdown",
      "metadata": {
        "id": "CyShaLkPI0VJ"
      },
      "source": [
        "### Underfitting and overfitting"
      ]
    },
    {
      "cell_type": "markdown",
      "metadata": {
        "id": "F4LMjBxNI0VK"
      },
      "source": [
        "#### Noisy training data"
      ]
    },
    {
      "cell_type": "markdown",
      "metadata": {
        "id": "eJuFsrwWI0VK"
      },
      "source": [
        "#### Ambiguous features"
      ]
    },
    {
      "cell_type": "markdown",
      "metadata": {
        "id": "JLAyJ5tAI0VL"
      },
      "source": [
        "#### Rare features and spurious correlations"
      ]
    },
    {
      "cell_type": "markdown",
      "metadata": {
        "id": "mBMh0YVHI0VL"
      },
      "source": [
        "**Adding white-noise channels or all-zeros channels to MNIST**"
      ]
    },
    {
      "cell_type": "code",
      "execution_count": 3,
      "metadata": {
        "id": "pUSMfCzJI0VM"
      },
      "outputs": [],
      "source": [
        "from tensorflow.keras.datasets import mnist\n",
        "import numpy as np\n",
        "\n",
        "(train_images, train_labels), _ = mnist.load_data()\n",
        "train_images = train_images.reshape((60000, 28 * 28))\n",
        "train_images = train_images.astype(\"float32\") / 255\n",
        "\n",
        "train_images_with_noise_channels = np.concatenate(\n",
        "    [train_images, np.random.random((len(train_images), 784))], axis=1)\n",
        "\n",
        "train_images_with_zeros_channels = np.concatenate(\n",
        "    [train_images, np.zeros((len(train_images), 784))], axis=1)"
      ]
    },
    {
      "cell_type": "markdown",
      "metadata": {
        "id": "9R34m41HI0VN"
      },
      "source": [
        "**Training the same model on MNIST data with noise channels or all-zero channels**"
      ]
    },
    {
      "cell_type": "code",
      "execution_count": 4,
      "metadata": {
        "id": "40j_biiZI0VO",
        "outputId": "1d27411f-1ed0-4b8a-c223-9c14eaa46501",
        "colab": {
          "base_uri": "https://localhost:8080/"
        }
      },
      "outputs": [
        {
          "output_type": "stream",
          "name": "stdout",
          "text": [
            "Epoch 1/10\n",
            "375/375 [==============================] - 14s 35ms/step - loss: 0.6434 - accuracy: 0.8080 - val_loss: 0.3298 - val_accuracy: 0.9064\n",
            "Epoch 2/10\n",
            "375/375 [==============================] - 14s 37ms/step - loss: 0.2495 - accuracy: 0.9224 - val_loss: 0.2407 - val_accuracy: 0.9283\n",
            "Epoch 3/10\n",
            "375/375 [==============================] - 8s 22ms/step - loss: 0.1619 - accuracy: 0.9500 - val_loss: 0.1575 - val_accuracy: 0.9521\n",
            "Epoch 4/10\n",
            "375/375 [==============================] - 8s 21ms/step - loss: 0.1153 - accuracy: 0.9639 - val_loss: 0.1417 - val_accuracy: 0.9574\n",
            "Epoch 5/10\n",
            "375/375 [==============================] - 8s 21ms/step - loss: 0.0846 - accuracy: 0.9730 - val_loss: 0.1180 - val_accuracy: 0.9668\n",
            "Epoch 6/10\n",
            "375/375 [==============================] - 8s 21ms/step - loss: 0.0625 - accuracy: 0.9795 - val_loss: 0.1268 - val_accuracy: 0.9658\n",
            "Epoch 7/10\n",
            "375/375 [==============================] - 8s 21ms/step - loss: 0.0461 - accuracy: 0.9854 - val_loss: 0.1321 - val_accuracy: 0.9662\n",
            "Epoch 8/10\n",
            "375/375 [==============================] - 8s 21ms/step - loss: 0.0355 - accuracy: 0.9887 - val_loss: 0.1292 - val_accuracy: 0.9671\n",
            "Epoch 9/10\n",
            "375/375 [==============================] - 8s 21ms/step - loss: 0.0266 - accuracy: 0.9916 - val_loss: 0.1333 - val_accuracy: 0.9666\n",
            "Epoch 10/10\n",
            "375/375 [==============================] - 8s 21ms/step - loss: 0.0213 - accuracy: 0.9931 - val_loss: 0.1294 - val_accuracy: 0.9699\n",
            "Epoch 1/10\n",
            "375/375 [==============================] - 8s 21ms/step - loss: 0.2877 - accuracy: 0.9175 - val_loss: 0.1603 - val_accuracy: 0.9530\n",
            "Epoch 2/10\n",
            "375/375 [==============================] - 8s 21ms/step - loss: 0.1184 - accuracy: 0.9651 - val_loss: 0.1232 - val_accuracy: 0.9618\n",
            "Epoch 3/10\n",
            "375/375 [==============================] - 8s 21ms/step - loss: 0.0776 - accuracy: 0.9768 - val_loss: 0.0974 - val_accuracy: 0.9718\n",
            "Epoch 4/10\n",
            "375/375 [==============================] - 8s 21ms/step - loss: 0.0569 - accuracy: 0.9827 - val_loss: 0.0945 - val_accuracy: 0.9712\n",
            "Epoch 5/10\n",
            "375/375 [==============================] - 8s 21ms/step - loss: 0.0417 - accuracy: 0.9878 - val_loss: 0.0965 - val_accuracy: 0.9710\n",
            "Epoch 6/10\n",
            "375/375 [==============================] - 8s 21ms/step - loss: 0.0316 - accuracy: 0.9908 - val_loss: 0.0822 - val_accuracy: 0.9760\n",
            "Epoch 7/10\n",
            "375/375 [==============================] - 8s 21ms/step - loss: 0.0239 - accuracy: 0.9929 - val_loss: 0.0836 - val_accuracy: 0.9779\n",
            "Epoch 8/10\n",
            "375/375 [==============================] - 8s 21ms/step - loss: 0.0180 - accuracy: 0.9949 - val_loss: 0.0901 - val_accuracy: 0.9758\n",
            "Epoch 9/10\n",
            "375/375 [==============================] - 8s 21ms/step - loss: 0.0143 - accuracy: 0.9957 - val_loss: 0.0854 - val_accuracy: 0.9784\n",
            "Epoch 10/10\n",
            "375/375 [==============================] - 9s 23ms/step - loss: 0.0109 - accuracy: 0.9968 - val_loss: 0.0849 - val_accuracy: 0.9799\n"
          ]
        }
      ],
      "source": [
        "from tensorflow import keras\n",
        "from tensorflow.keras import layers\n",
        "\n",
        "def get_model():\n",
        "    model = keras.Sequential([\n",
        "        layers.Dense(512, activation=\"relu\"),\n",
        "        layers.Dense(10, activation=\"softmax\")\n",
        "    ])\n",
        "    model.compile(optimizer=\"rmsprop\",\n",
        "                  loss=\"sparse_categorical_crossentropy\",\n",
        "                  metrics=[\"accuracy\"])\n",
        "    return model\n",
        "\n",
        "model = get_model()\n",
        "history_noise = model.fit(\n",
        "    train_images_with_noise_channels, train_labels,\n",
        "    epochs=10,\n",
        "    batch_size=128,\n",
        "    validation_split=0.2)\n",
        "\n",
        "model = get_model()\n",
        "history_zeros = model.fit(\n",
        "    train_images_with_zeros_channels, train_labels,\n",
        "    epochs=10,\n",
        "    batch_size=128,\n",
        "    validation_split=0.2)"
      ]
    },
    {
      "cell_type": "markdown",
      "metadata": {
        "id": "vctJkY77I0VO"
      },
      "source": [
        "**Plotting a validation accuracy comparison**"
      ]
    },
    {
      "cell_type": "code",
      "execution_count": 5,
      "metadata": {
        "id": "ByIqlE02I0VP",
        "outputId": "4a64a96f-fe00-45b2-b082-da15b7127bab",
        "colab": {
          "base_uri": "https://localhost:8080/",
          "height": 313
        }
      },
      "outputs": [
        {
          "output_type": "execute_result",
          "data": {
            "text/plain": [
              "<matplotlib.legend.Legend at 0x7f861db70850>"
            ]
          },
          "metadata": {},
          "execution_count": 5
        },
        {
          "output_type": "display_data",
          "data": {
            "text/plain": [
              "<Figure size 432x288 with 1 Axes>"
            ],
            "image/png": "[encoded data removed]"
          },
          "metadata": {
            "needs_background": "light"
          }
        }
      ],
      "source": [
        "import matplotlib.pyplot as plt\n",
        "val_acc_noise = history_noise.history[\"val_accuracy\"]\n",
        "val_acc_zeros = history_zeros.history[\"val_accuracy\"]\n",
        "epochs = range(1, 11)\n",
        "plt.plot(epochs, val_acc_noise, \"b-\",\n",
        "         label=\"Validation accuracy with noise channels\")\n",
        "plt.plot(epochs, val_acc_zeros, \"b--\",\n",
        "         label=\"Validation accuracy with zeros channels\")\n",
        "plt.title(\"Effect of noise channels on validation accuracy\")\n",
        "plt.xlabel(\"Epochs\")\n",
        "plt.ylabel(\"Accuracy\")\n",
        "plt.legend()"
      ]
    },
    {
      "cell_type": "markdown",
      "metadata": {
        "id": "6gxeMnoeI0VP"
      },
      "source": [
        "### The nature of generalization in deep learning"
      ]
    },
    {
      "cell_type": "markdown",
      "metadata": {
        "id": "ojcuLiPXI0VP"
      },
      "source": [
        "**Fitting a MNIST model with randomly shuffled labels**"
      ]
    },
    {
      "cell_type": "code",
      "execution_count": 6,
      "metadata": {
        "id": "aq5LOxG5I0VP",
        "outputId": "07d28273-e33c-46da-ebb2-0161a4506023",
        "colab": {
          "base_uri": "https://localhost:8080/"
        }
      },
      "outputs": [
        {
          "output_type": "stream",
          "name": "stdout",
          "text": [
            "Epoch 1/100\n",
            "375/375 [==============================] - 6s 14ms/step - loss: 2.3178 - accuracy: 0.1029 - val_loss: 2.3071 - val_accuracy: 0.1067\n",
            "Epoch 2/100\n",
            "375/375 [==============================] - 5s 13ms/step - loss: 2.3000 - accuracy: 0.1150 - val_loss: 2.3131 - val_accuracy: 0.0975\n",
            "Epoch 3/100\n",
            "375/375 [==============================] - 5s 12ms/step - loss: 2.2910 - accuracy: 0.1238 - val_loss: 2.3187 - val_accuracy: 0.0963\n",
            "Epoch 4/100\n",
            "375/375 [==============================] - 5s 12ms/step - loss: 2.2770 - accuracy: 0.1408 - val_loss: 2.3299 - val_accuracy: 0.0990\n",
            "Epoch 5/100\n",
            "375/375 [==============================] - 5s 12ms/step - loss: 2.2598 - accuracy: 0.1535 - val_loss: 2.3375 - val_accuracy: 0.0960\n",
            "Epoch 6/100\n",
            "375/375 [==============================] - 5s 12ms/step - loss: 2.2385 - accuracy: 0.1702 - val_loss: 2.3572 - val_accuracy: 0.0994\n",
            "Epoch 7/100\n",
            "375/375 [==============================] - 5s 13ms/step - loss: 2.2147 - accuracy: 0.1807 - val_loss: 2.3648 - val_accuracy: 0.0978\n",
            "Epoch 8/100\n",
            "375/375 [==============================] - 5s 12ms/step - loss: 2.1890 - accuracy: 0.1942 - val_loss: 2.3881 - val_accuracy: 0.0993\n",
            "Epoch 9/100\n",
            "375/375 [==============================] - 5s 13ms/step - loss: 2.1590 - accuracy: 0.2117 - val_loss: 2.3954 - val_accuracy: 0.0993\n",
            "Epoch 10/100\n",
            "375/375 [==============================] - 5s 12ms/step - loss: 2.1310 - accuracy: 0.2293 - val_loss: 2.4147 - val_accuracy: 0.1003\n",
            "Epoch 11/100\n",
            "375/375 [==============================] - 5s 12ms/step - loss: 2.0977 - accuracy: 0.2434 - val_loss: 2.4487 - val_accuracy: 0.0976\n",
            "Epoch 12/100\n",
            "375/375 [==============================] - 6s 15ms/step - loss: 2.0660 - accuracy: 0.2578 - val_loss: 2.4674 - val_accuracy: 0.1013\n",
            "Epoch 13/100\n",
            "375/375 [==============================] - 5s 12ms/step - loss: 2.0333 - accuracy: 0.2726 - val_loss: 2.5023 - val_accuracy: 0.0989\n",
            "Epoch 14/100\n",
            "375/375 [==============================] - 5s 12ms/step - loss: 1.9982 - accuracy: 0.2876 - val_loss: 2.5173 - val_accuracy: 0.0983\n",
            "Epoch 15/100\n",
            "375/375 [==============================] - 5s 12ms/step - loss: 1.9654 - accuracy: 0.3040 - val_loss: 2.5551 - val_accuracy: 0.0989\n",
            "Epoch 16/100\n",
            "375/375 [==============================] - 5s 12ms/step - loss: 1.9323 - accuracy: 0.3171 - val_loss: 2.6060 - val_accuracy: 0.0942\n",
            "Epoch 17/100\n",
            "375/375 [==============================] - 5s 12ms/step - loss: 1.9004 - accuracy: 0.3307 - val_loss: 2.6239 - val_accuracy: 0.1023\n",
            "Epoch 18/100\n",
            "375/375 [==============================] - 5s 12ms/step - loss: 1.8672 - accuracy: 0.3415 - val_loss: 2.6598 - val_accuracy: 0.0998\n",
            "Epoch 19/100\n",
            "375/375 [==============================] - 5s 13ms/step - loss: 1.8350 - accuracy: 0.3571 - val_loss: 2.6943 - val_accuracy: 0.0990\n",
            "Epoch 20/100\n",
            "375/375 [==============================] - 5s 13ms/step - loss: 1.8042 - accuracy: 0.3694 - val_loss: 2.7277 - val_accuracy: 0.0993\n",
            "Epoch 21/100\n",
            "375/375 [==============================] - 5s 13ms/step - loss: 1.7716 - accuracy: 0.3816 - val_loss: 2.7710 - val_accuracy: 0.1008\n",
            "Epoch 22/100\n",
            "375/375 [==============================] - 5s 12ms/step - loss: 1.7399 - accuracy: 0.3948 - val_loss: 2.7937 - val_accuracy: 0.1006\n",
            "Epoch 23/100\n",
            "375/375 [==============================] - 5s 12ms/step - loss: 1.7112 - accuracy: 0.4064 - val_loss: 2.8473 - val_accuracy: 0.0967\n",
            "Epoch 24/100\n",
            "375/375 [==============================] - 5s 12ms/step - loss: 1.6819 - accuracy: 0.4155 - val_loss: 2.8782 - val_accuracy: 0.0983\n",
            "Epoch 25/100\n",
            "375/375 [==============================] - 5s 12ms/step - loss: 1.6536 - accuracy: 0.4241 - val_loss: 2.9090 - val_accuracy: 0.0982\n",
            "Epoch 26/100\n",
            "375/375 [==============================] - 5s 13ms/step - loss: 1.6267 - accuracy: 0.4355 - val_loss: 2.9553 - val_accuracy: 0.0972\n",
            "Epoch 27/100\n",
            "375/375 [==============================] - 5s 12ms/step - loss: 1.5981 - accuracy: 0.4482 - val_loss: 3.0008 - val_accuracy: 0.0959\n",
            "Epoch 28/100\n",
            "375/375 [==============================] - 5s 13ms/step - loss: 1.5723 - accuracy: 0.4568 - val_loss: 3.0307 - val_accuracy: 0.0983\n",
            "Epoch 29/100\n",
            "375/375 [==============================] - 5s 12ms/step - loss: 1.5458 - accuracy: 0.4685 - val_loss: 3.0752 - val_accuracy: 0.0978\n",
            "Epoch 30/100\n",
            "375/375 [==============================] - 5s 13ms/step - loss: 1.5221 - accuracy: 0.4769 - val_loss: 3.1251 - val_accuracy: 0.0989\n",
            "Epoch 31/100\n",
            "375/375 [==============================] - 5s 13ms/step - loss: 1.4963 - accuracy: 0.4875 - val_loss: 3.1689 - val_accuracy: 0.0997\n",
            "Epoch 32/100\n",
            "375/375 [==============================] - 8s 21ms/step - loss: 1.4721 - accuracy: 0.4938 - val_loss: 3.2021 - val_accuracy: 0.0979\n",
            "Epoch 33/100\n",
            "375/375 [==============================] - 9s 24ms/step - loss: 1.4457 - accuracy: 0.5045 - val_loss: 3.2768 - val_accuracy: 0.1001\n",
            "Epoch 34/100\n",
            "375/375 [==============================] - 6s 15ms/step - loss: 1.4253 - accuracy: 0.5123 - val_loss: 3.3080 - val_accuracy: 0.0962\n",
            "Epoch 35/100\n",
            "375/375 [==============================] - 5s 12ms/step - loss: 1.4013 - accuracy: 0.5226 - val_loss: 3.3494 - val_accuracy: 0.1035\n",
            "Epoch 36/100\n",
            "375/375 [==============================] - 5s 12ms/step - loss: 1.3796 - accuracy: 0.5314 - val_loss: 3.4092 - val_accuracy: 0.0962\n",
            "Epoch 37/100\n",
            "375/375 [==============================] - 5s 12ms/step - loss: 1.3575 - accuracy: 0.5355 - val_loss: 3.4497 - val_accuracy: 0.1008\n",
            "Epoch 38/100\n",
            "375/375 [==============================] - 5s 12ms/step - loss: 1.3372 - accuracy: 0.5443 - val_loss: 3.4723 - val_accuracy: 0.0988\n",
            "Epoch 39/100\n",
            "375/375 [==============================] - 5s 13ms/step - loss: 1.3159 - accuracy: 0.5514 - val_loss: 3.5165 - val_accuracy: 0.0985\n",
            "Epoch 40/100\n",
            "375/375 [==============================] - 5s 13ms/step - loss: 1.2962 - accuracy: 0.5599 - val_loss: 3.5703 - val_accuracy: 0.0995\n",
            "Epoch 41/100\n",
            "375/375 [==============================] - 5s 12ms/step - loss: 1.2744 - accuracy: 0.5675 - val_loss: 3.6379 - val_accuracy: 0.0999\n",
            "Epoch 42/100\n",
            "375/375 [==============================] - 5s 13ms/step - loss: 1.2546 - accuracy: 0.5757 - val_loss: 3.6875 - val_accuracy: 0.1009\n",
            "Epoch 43/100\n",
            "375/375 [==============================] - 5s 13ms/step - loss: 1.2368 - accuracy: 0.5823 - val_loss: 3.7255 - val_accuracy: 0.0992\n",
            "Epoch 44/100\n",
            "375/375 [==============================] - 5s 13ms/step - loss: 1.2169 - accuracy: 0.5896 - val_loss: 3.7685 - val_accuracy: 0.1026\n",
            "Epoch 45/100\n",
            "375/375 [==============================] - 6s 15ms/step - loss: 1.2014 - accuracy: 0.5924 - val_loss: 3.8039 - val_accuracy: 0.1020\n",
            "Epoch 46/100\n",
            "375/375 [==============================] - 5s 12ms/step - loss: 1.1807 - accuracy: 0.6002 - val_loss: 3.8984 - val_accuracy: 0.0980\n",
            "Epoch 47/100\n",
            "375/375 [==============================] - 5s 13ms/step - loss: 1.1621 - accuracy: 0.6104 - val_loss: 3.9450 - val_accuracy: 0.0968\n",
            "Epoch 48/100\n",
            "375/375 [==============================] - 6s 15ms/step - loss: 1.1452 - accuracy: 0.6128 - val_loss: 3.9874 - val_accuracy: 0.1020\n",
            "Epoch 49/100\n",
            "375/375 [==============================] - 7s 17ms/step - loss: 1.1276 - accuracy: 0.6211 - val_loss: 4.0533 - val_accuracy: 0.0985\n",
            "Epoch 50/100\n",
            "375/375 [==============================] - 5s 13ms/step - loss: 1.1109 - accuracy: 0.6275 - val_loss: 4.1159 - val_accuracy: 0.0982\n",
            "Epoch 51/100\n",
            "375/375 [==============================] - 5s 13ms/step - loss: 1.0934 - accuracy: 0.6322 - val_loss: 4.1534 - val_accuracy: 0.1017\n",
            "Epoch 52/100\n",
            "375/375 [==============================] - 5s 12ms/step - loss: 1.0774 - accuracy: 0.6387 - val_loss: 4.1694 - val_accuracy: 0.0999\n",
            "Epoch 53/100\n",
            "375/375 [==============================] - 5s 13ms/step - loss: 1.0620 - accuracy: 0.6446 - val_loss: 4.2502 - val_accuracy: 0.1002\n",
            "Epoch 54/100\n",
            "375/375 [==============================] - 5s 13ms/step - loss: 1.0448 - accuracy: 0.6507 - val_loss: 4.2714 - val_accuracy: 0.0970\n",
            "Epoch 55/100\n",
            "375/375 [==============================] - 5s 13ms/step - loss: 1.0292 - accuracy: 0.6549 - val_loss: 4.3357 - val_accuracy: 0.0993\n",
            "Epoch 56/100\n",
            "375/375 [==============================] - 5s 13ms/step - loss: 1.0147 - accuracy: 0.6596 - val_loss: 4.3719 - val_accuracy: 0.0978\n",
            "Epoch 57/100\n",
            "375/375 [==============================] - 5s 13ms/step - loss: 1.0010 - accuracy: 0.6641 - val_loss: 4.4704 - val_accuracy: 0.0994\n",
            "Epoch 58/100\n",
            "375/375 [==============================] - 5s 13ms/step - loss: 0.9881 - accuracy: 0.6693 - val_loss: 4.5455 - val_accuracy: 0.1012\n",
            "Epoch 59/100\n",
            "375/375 [==============================] - 5s 13ms/step - loss: 0.9722 - accuracy: 0.6761 - val_loss: 4.6010 - val_accuracy: 0.1015\n",
            "Epoch 60/100\n",
            "375/375 [==============================] - 5s 13ms/step - loss: 0.9575 - accuracy: 0.6801 - val_loss: 4.6396 - val_accuracy: 0.0989\n",
            "Epoch 61/100\n",
            "375/375 [==============================] - 5s 14ms/step - loss: 0.9426 - accuracy: 0.6852 - val_loss: 4.7359 - val_accuracy: 0.0984\n",
            "Epoch 62/100\n",
            "375/375 [==============================] - 5s 13ms/step - loss: 0.9290 - accuracy: 0.6925 - val_loss: 4.7302 - val_accuracy: 0.1019\n",
            "Epoch 63/100\n",
            "375/375 [==============================] - 5s 13ms/step - loss: 0.9162 - accuracy: 0.6954 - val_loss: 4.8005 - val_accuracy: 0.0993\n",
            "Epoch 64/100\n",
            "375/375 [==============================] - 5s 13ms/step - loss: 0.9030 - accuracy: 0.7001 - val_loss: 4.8574 - val_accuracy: 0.1027\n",
            "Epoch 65/100\n",
            "375/375 [==============================] - 5s 13ms/step - loss: 0.8916 - accuracy: 0.7033 - val_loss: 4.8997 - val_accuracy: 0.0997\n",
            "Epoch 66/100\n",
            "375/375 [==============================] - 5s 13ms/step - loss: 0.8775 - accuracy: 0.7093 - val_loss: 4.9674 - val_accuracy: 0.0988\n",
            "Epoch 67/100\n",
            "375/375 [==============================] - 5s 13ms/step - loss: 0.8664 - accuracy: 0.7125 - val_loss: 5.0193 - val_accuracy: 0.0999\n",
            "Epoch 68/100\n",
            "375/375 [==============================] - 5s 13ms/step - loss: 0.8526 - accuracy: 0.7172 - val_loss: 5.0771 - val_accuracy: 0.0973\n",
            "Epoch 69/100\n",
            "375/375 [==============================] - 5s 13ms/step - loss: 0.8411 - accuracy: 0.7217 - val_loss: 5.1400 - val_accuracy: 0.1013\n",
            "Epoch 70/100\n",
            "375/375 [==============================] - 5s 13ms/step - loss: 0.8287 - accuracy: 0.7253 - val_loss: 5.2179 - val_accuracy: 0.0998\n",
            "Epoch 71/100\n",
            "375/375 [==============================] - 5s 13ms/step - loss: 0.8173 - accuracy: 0.7305 - val_loss: 5.2978 - val_accuracy: 0.1006\n",
            "Epoch 72/100\n",
            "375/375 [==============================] - 5s 13ms/step - loss: 0.8053 - accuracy: 0.7333 - val_loss: 5.3021 - val_accuracy: 0.1005\n",
            "Epoch 73/100\n",
            "375/375 [==============================] - 5s 13ms/step - loss: 0.7945 - accuracy: 0.7383 - val_loss: 5.3736 - val_accuracy: 0.0985\n",
            "Epoch 74/100\n",
            "375/375 [==============================] - 5s 13ms/step - loss: 0.7850 - accuracy: 0.7407 - val_loss: 5.4603 - val_accuracy: 0.0992\n",
            "Epoch 75/100\n",
            "375/375 [==============================] - 5s 13ms/step - loss: 0.7726 - accuracy: 0.7469 - val_loss: 5.5439 - val_accuracy: 0.1032\n",
            "Epoch 76/100\n",
            "375/375 [==============================] - 5s 13ms/step - loss: 0.7600 - accuracy: 0.7501 - val_loss: 5.5497 - val_accuracy: 0.0992\n",
            "Epoch 77/100\n",
            "375/375 [==============================] - 5s 13ms/step - loss: 0.7503 - accuracy: 0.7529 - val_loss: 5.6275 - val_accuracy: 0.1005\n",
            "Epoch 78/100\n",
            "375/375 [==============================] - 6s 16ms/step - loss: 0.7402 - accuracy: 0.7564 - val_loss: 5.6881 - val_accuracy: 0.1000\n",
            "Epoch 79/100\n",
            "375/375 [==============================] - 5s 14ms/step - loss: 0.7311 - accuracy: 0.7610 - val_loss: 5.6947 - val_accuracy: 0.1018\n",
            "Epoch 80/100\n",
            "375/375 [==============================] - 5s 13ms/step - loss: 0.7209 - accuracy: 0.7654 - val_loss: 5.7877 - val_accuracy: 0.1007\n",
            "Epoch 81/100\n",
            "375/375 [==============================] - 5s 13ms/step - loss: 0.7081 - accuracy: 0.7688 - val_loss: 5.8723 - val_accuracy: 0.0978\n",
            "Epoch 82/100\n",
            "375/375 [==============================] - 5s 13ms/step - loss: 0.7002 - accuracy: 0.7720 - val_loss: 5.9454 - val_accuracy: 0.0994\n",
            "Epoch 83/100\n",
            "375/375 [==============================] - 5s 13ms/step - loss: 0.6928 - accuracy: 0.7738 - val_loss: 5.9508 - val_accuracy: 0.1006\n",
            "Epoch 84/100\n",
            "375/375 [==============================] - 5s 13ms/step - loss: 0.6808 - accuracy: 0.7770 - val_loss: 6.0531 - val_accuracy: 0.0995\n",
            "Epoch 85/100\n",
            "375/375 [==============================] - 5s 13ms/step - loss: 0.6722 - accuracy: 0.7803 - val_loss: 6.1253 - val_accuracy: 0.0976\n",
            "Epoch 86/100\n",
            "375/375 [==============================] - 5s 13ms/step - loss: 0.6625 - accuracy: 0.7819 - val_loss: 6.1885 - val_accuracy: 0.0997\n",
            "Epoch 87/100\n",
            "375/375 [==============================] - 5s 13ms/step - loss: 0.6536 - accuracy: 0.7878 - val_loss: 6.2382 - val_accuracy: 0.0976\n",
            "Epoch 88/100\n",
            "375/375 [==============================] - 5s 13ms/step - loss: 0.6437 - accuracy: 0.7916 - val_loss: 6.3167 - val_accuracy: 0.0993\n",
            "Epoch 89/100\n",
            "375/375 [==============================] - 5s 13ms/step - loss: 0.6351 - accuracy: 0.7927 - val_loss: 6.3768 - val_accuracy: 0.1002\n",
            "Epoch 90/100\n",
            "375/375 [==============================] - 5s 13ms/step - loss: 0.6286 - accuracy: 0.7964 - val_loss: 6.4062 - val_accuracy: 0.0997\n",
            "Epoch 91/100\n",
            "375/375 [==============================] - 5s 13ms/step - loss: 0.6193 - accuracy: 0.7983 - val_loss: 6.4990 - val_accuracy: 0.1003\n",
            "Epoch 92/100\n",
            "375/375 [==============================] - 5s 13ms/step - loss: 0.6087 - accuracy: 0.8033 - val_loss: 6.5978 - val_accuracy: 0.1006\n",
            "Epoch 93/100\n",
            "375/375 [==============================] - 5s 13ms/step - loss: 0.6020 - accuracy: 0.8049 - val_loss: 6.6198 - val_accuracy: 0.0995\n",
            "Epoch 94/100\n",
            "375/375 [==============================] - 5s 13ms/step - loss: 0.5917 - accuracy: 0.8087 - val_loss: 6.6742 - val_accuracy: 0.0984\n",
            "Epoch 95/100\n",
            "375/375 [==============================] - 5s 13ms/step - loss: 0.5853 - accuracy: 0.8120 - val_loss: 6.7504 - val_accuracy: 0.0978\n",
            "Epoch 96/100\n",
            "375/375 [==============================] - 5s 13ms/step - loss: 0.5793 - accuracy: 0.8139 - val_loss: 6.8520 - val_accuracy: 0.1012\n",
            "Epoch 97/100\n",
            "375/375 [==============================] - 5s 13ms/step - loss: 0.5721 - accuracy: 0.8171 - val_loss: 6.9166 - val_accuracy: 0.1017\n",
            "Epoch 98/100\n",
            "375/375 [==============================] - 5s 13ms/step - loss: 0.5616 - accuracy: 0.8173 - val_loss: 6.9695 - val_accuracy: 0.0990\n",
            "Epoch 99/100\n",
            "375/375 [==============================] - 5s 14ms/step - loss: 0.5558 - accuracy: 0.8212 - val_loss: 7.0277 - val_accuracy: 0.1017\n",
            "Epoch 100/100\n",
            "375/375 [==============================] - 5s 13ms/step - loss: 0.5501 - accuracy: 0.8236 - val_loss: 7.1129 - val_accuracy: 0.0983\n"
          ]
        },
        {
          "output_type": "execute_result",
          "data": {
            "text/plain": [
              "<keras.callbacks.History at 0x7f861daa4d50>"
            ]
          },
          "metadata": {},
          "execution_count": 6
        }
      ],
      "source": [
        "(train_images, train_labels), _ = mnist.load_data()\n",
        "train_images = train_images.reshape((60000, 28 * 28))\n",
        "train_images = train_images.astype(\"float32\") / 255\n",
        "\n",
        "random_train_labels = train_labels[:]\n",
        "np.random.shuffle(random_train_labels)\n",
        "\n",
        "model = keras.Sequential([\n",
        "    layers.Dense(512, activation=\"relu\"),\n",
        "    layers.Dense(10, activation=\"softmax\")\n",
        "])\n",
        "model.compile(optimizer=\"rmsprop\",\n",
        "              loss=\"sparse_categorical_crossentropy\",\n",
        "              metrics=[\"accuracy\"])\n",
        "model.fit(train_images, random_train_labels,\n",
        "          epochs=100,\n",
        "          batch_size=128,\n",
        "          validation_split=0.2)"
      ]
    },
    {
      "cell_type": "markdown",
      "metadata": {
        "id": "7-qjMA_HI0VQ"
      },
      "source": [
        "#### The manifold hypothesis"
      ]
    },
    {
      "cell_type": "markdown",
      "metadata": {
        "id": "ceVa7OcCI0VQ"
      },
      "source": [
        "#### Interpolation as a source of generalization"
      ]
    },
    {
      "cell_type": "markdown",
      "metadata": {
        "id": "89ZfWcghI0VQ"
      },
      "source": [
        "#### Why deep learning works"
      ]
    },
    {
      "cell_type": "markdown",
      "metadata": {
        "id": "5vzusjecI0VQ"
      },
      "source": [
        "#### Training data is paramount"
      ]
    },
    {
      "cell_type": "markdown",
      "metadata": {
        "id": "6a_MzKhKI0VR"
      },
      "source": [
        "## Evaluating machine-learning models"
      ]
    },
    {
      "cell_type": "markdown",
      "metadata": {
        "id": "qOaacz9wI0VR"
      },
      "source": [
        "### Training, validation, and test sets"
      ]
    },
    {
      "cell_type": "markdown",
      "metadata": {
        "id": "xeb4YNbII0VR"
      },
      "source": [
        "#### Simple hold-out validation"
      ]
    },
    {
      "cell_type": "markdown",
      "metadata": {
        "id": "7x4jhPFuI0VR"
      },
      "source": [
        "#### K-fold validation"
      ]
    },
    {
      "cell_type": "markdown",
      "metadata": {
        "id": "Vu6GrZJRI0VR"
      },
      "source": [
        "#### Iterated K-fold validation with shuffling"
      ]
    },
    {
      "cell_type": "markdown",
      "metadata": {
        "id": "YQjDxUfiI0VS"
      },
      "source": [
        "### Beating a common-sense baseline"
      ]
    },
    {
      "cell_type": "markdown",
      "metadata": {
        "id": "0s7gNdmrI0VS"
      },
      "source": [
        "### Things to keep in mind about model evaluation"
      ]
    },
    {
      "cell_type": "markdown",
      "metadata": {
        "id": "NtYYtGq1I0VS"
      },
      "source": [
        "## Improving model fit"
      ]
    },
    {
      "cell_type": "markdown",
      "metadata": {
        "id": "DyYGQldgI0VS"
      },
      "source": [
        "### Tuning key gradient descent parameters"
      ]
    },
    {
      "cell_type": "markdown",
      "metadata": {
        "id": "R8Q7ckGhI0VS"
      },
      "source": [
        "**Training a MNIST model with an incorrectly high learning rate**"
      ]
    },
    {
      "cell_type": "code",
      "execution_count": 7,
      "metadata": {
        "id": "_d2kRt6LI0VS",
        "outputId": "7349dcaf-52ab-45a3-8c84-e5a1aeaa9ee0",
        "colab": {
          "base_uri": "https://localhost:8080/"
        }
      },
      "outputs": [
        {
          "output_type": "stream",
          "name": "stdout",
          "text": [
            "Epoch 1/10\n",
            "375/375 [==============================] - 6s 13ms/step - loss: 533.5582 - accuracy: 0.3579 - val_loss: 2.1911 - val_accuracy: 0.2702\n",
            "Epoch 2/10\n",
            "375/375 [==============================] - 5s 13ms/step - loss: 3.3771 - accuracy: 0.2283 - val_loss: 2.9998 - val_accuracy: 0.2482\n",
            "Epoch 3/10\n",
            "375/375 [==============================] - 5s 14ms/step - loss: 3.5426 - accuracy: 0.2201 - val_loss: 6.0076 - val_accuracy: 0.1790\n",
            "Epoch 4/10\n",
            "375/375 [==============================] - 5s 13ms/step - loss: 2.8252 - accuracy: 0.2229 - val_loss: 2.6488 - val_accuracy: 0.2027\n",
            "Epoch 5/10\n",
            "375/375 [==============================] - 5s 13ms/step - loss: 2.9296 - accuracy: 0.2471 - val_loss: 2.8500 - val_accuracy: 0.2692\n",
            "Epoch 6/10\n",
            "375/375 [==============================] - 5s 13ms/step - loss: 2.5593 - accuracy: 0.2521 - val_loss: 2.5173 - val_accuracy: 0.2713\n",
            "Epoch 7/10\n",
            "375/375 [==============================] - 5s 13ms/step - loss: 2.8312 - accuracy: 0.2643 - val_loss: 2.2374 - val_accuracy: 0.1879\n",
            "Epoch 8/10\n",
            "375/375 [==============================] - 5s 13ms/step - loss: 2.4726 - accuracy: 0.2514 - val_loss: 2.1888 - val_accuracy: 0.2157\n",
            "Epoch 9/10\n",
            "375/375 [==============================] - 6s 17ms/step - loss: 2.5427 - accuracy: 0.2487 - val_loss: 2.2150 - val_accuracy: 0.2121\n",
            "Epoch 10/10\n",
            "375/375 [==============================] - 5s 13ms/step - loss: 2.4728 - accuracy: 0.2311 - val_loss: 2.2015 - val_accuracy: 0.2582\n"
          ]
        },
        {
          "output_type": "execute_result",
          "data": {
            "text/plain": [
              "<keras.callbacks.History at 0x7f861d51ac90>"
            ]
          },
          "metadata": {},
          "execution_count": 7
        }
      ],
      "source": [
        "(train_images, train_labels), _ = mnist.load_data()\n",
        "train_images = train_images.reshape((60000, 28 * 28))\n",
        "train_images = train_images.astype(\"float32\") / 255\n",
        "\n",
        "model = keras.Sequential([\n",
        "    layers.Dense(512, activation=\"relu\"),\n",
        "    layers.Dense(10, activation=\"softmax\")\n",
        "])\n",
        "model.compile(optimizer=keras.optimizers.RMSprop(1.),\n",
        "              loss=\"sparse_categorical_crossentropy\",\n",
        "              metrics=[\"accuracy\"])\n",
        "model.fit(train_images, train_labels,\n",
        "          epochs=10,\n",
        "          batch_size=128,\n",
        "          validation_split=0.2)"
      ]
    },
    {
      "cell_type": "markdown",
      "metadata": {
        "id": "7_voxgTDI0VS"
      },
      "source": [
        "**The same model with a more appropriate learning rate**"
      ]
    },
    {
      "cell_type": "code",
      "execution_count": 8,
      "metadata": {
        "id": "XCwa80PqI0VT",
        "outputId": "b28259f7-3047-42e5-ef72-9de87cb69230",
        "colab": {
          "base_uri": "https://localhost:8080/"
        }
      },
      "outputs": [
        {
          "output_type": "stream",
          "name": "stdout",
          "text": [
            "Epoch 1/10\n",
            "375/375 [==============================] - 6s 13ms/step - loss: 0.3675 - accuracy: 0.9147 - val_loss: 0.1799 - val_accuracy: 0.9538\n",
            "Epoch 2/10\n",
            "375/375 [==============================] - 5s 14ms/step - loss: 0.1379 - accuracy: 0.9634 - val_loss: 0.1655 - val_accuracy: 0.9628\n",
            "Epoch 3/10\n",
            "375/375 [==============================] - 5s 13ms/step - loss: 0.1198 - accuracy: 0.9719 - val_loss: 0.1643 - val_accuracy: 0.9693\n",
            "Epoch 4/10\n",
            "375/375 [==============================] - 5s 14ms/step - loss: 0.1023 - accuracy: 0.9776 - val_loss: 0.2602 - val_accuracy: 0.9587\n",
            "Epoch 5/10\n",
            "375/375 [==============================] - 5s 13ms/step - loss: 0.0896 - accuracy: 0.9814 - val_loss: 0.2174 - val_accuracy: 0.9669\n",
            "Epoch 6/10\n",
            "375/375 [==============================] - 5s 13ms/step - loss: 0.0785 - accuracy: 0.9846 - val_loss: 0.2395 - val_accuracy: 0.9727\n",
            "Epoch 7/10\n",
            "375/375 [==============================] - 5s 13ms/step - loss: 0.0754 - accuracy: 0.9867 - val_loss: 0.2186 - val_accuracy: 0.9743\n",
            "Epoch 8/10\n",
            "375/375 [==============================] - 5s 13ms/step - loss: 0.0705 - accuracy: 0.9876 - val_loss: 0.2911 - val_accuracy: 0.9647\n",
            "Epoch 9/10\n",
            "375/375 [==============================] - 5s 13ms/step - loss: 0.0594 - accuracy: 0.9893 - val_loss: 0.2806 - val_accuracy: 0.9727\n",
            "Epoch 10/10\n",
            "375/375 [==============================] - 5s 13ms/step - loss: 0.0605 - accuracy: 0.9900 - val_loss: 0.3154 - val_accuracy: 0.9719\n"
          ]
        },
        {
          "output_type": "execute_result",
          "data": {
            "text/plain": [
              "<keras.callbacks.History at 0x7f861982bd50>"
            ]
          },
          "metadata": {},
          "execution_count": 8
        }
      ],
      "source": [
        "model = keras.Sequential([\n",
        "    layers.Dense(512, activation=\"relu\"),\n",
        "    layers.Dense(10, activation=\"softmax\")\n",
        "])\n",
        "model.compile(optimizer=keras.optimizers.RMSprop(1e-2),\n",
        "              loss=\"sparse_categorical_crossentropy\",\n",
        "              metrics=[\"accuracy\"])\n",
        "model.fit(train_images, train_labels,\n",
        "          epochs=10,\n",
        "          batch_size=128,\n",
        "          validation_split=0.2)"
      ]
    },
    {
      "cell_type": "markdown",
      "metadata": {
        "id": "dZ5P26q_I0VT"
      },
      "source": [
        "### Leveraging better architecture priors"
      ]
    },
    {
      "cell_type": "markdown",
      "metadata": {
        "id": "rdbbD2ihI0VT"
      },
      "source": [
        "### Increasing model capacity"
      ]
    },
    {
      "cell_type": "markdown",
      "metadata": {
        "id": "wnOX2QYOI0VT"
      },
      "source": [
        "**A simple logistic regression on MNIST**"
      ]
    },
    {
      "cell_type": "code",
      "execution_count": 9,
      "metadata": {
        "id": "5tyIxxOCI0VT",
        "outputId": "1317aea6-16c8-4b94-8b66-eb06cba22461",
        "colab": {
          "base_uri": "https://localhost:8080/"
        }
      },
      "outputs": [
        {
          "output_type": "stream",
          "name": "stdout",
          "text": [
            "Epoch 1/20\n",
            "375/375 [==============================] - 2s 4ms/step - loss: 0.6824 - accuracy: 0.8282 - val_loss: 0.3602 - val_accuracy: 0.9047\n",
            "Epoch 2/20\n",
            "375/375 [==============================] - 1s 4ms/step - loss: 0.3515 - accuracy: 0.9035 - val_loss: 0.3084 - val_accuracy: 0.9132\n",
            "Epoch 3/20\n",
            "375/375 [==============================] - 1s 4ms/step - loss: 0.3156 - accuracy: 0.9121 - val_loss: 0.2899 - val_accuracy: 0.9197\n",
            "Epoch 4/20\n",
            "375/375 [==============================] - 1s 3ms/step - loss: 0.2994 - accuracy: 0.9162 - val_loss: 0.2807 - val_accuracy: 0.9228\n",
            "Epoch 5/20\n",
            "375/375 [==============================] - 1s 4ms/step - loss: 0.2894 - accuracy: 0.9192 - val_loss: 0.2766 - val_accuracy: 0.9239\n",
            "Epoch 6/20\n",
            "375/375 [==============================] - 1s 3ms/step - loss: 0.2829 - accuracy: 0.9210 - val_loss: 0.2707 - val_accuracy: 0.9253\n",
            "Epoch 7/20\n",
            "375/375 [==============================] - 1s 3ms/step - loss: 0.2783 - accuracy: 0.9220 - val_loss: 0.2693 - val_accuracy: 0.9264\n",
            "Epoch 8/20\n",
            "375/375 [==============================] - 1s 4ms/step - loss: 0.2740 - accuracy: 0.9236 - val_loss: 0.2683 - val_accuracy: 0.9275\n",
            "Epoch 9/20\n",
            "375/375 [==============================] - 1s 4ms/step - loss: 0.2714 - accuracy: 0.9251 - val_loss: 0.2643 - val_accuracy: 0.9288\n",
            "Epoch 10/20\n",
            "375/375 [==============================] - 1s 3ms/step - loss: 0.2685 - accuracy: 0.9254 - val_loss: 0.2658 - val_accuracy: 0.9273\n",
            "Epoch 11/20\n",
            "375/375 [==============================] - 1s 4ms/step - loss: 0.2666 - accuracy: 0.9265 - val_loss: 0.2649 - val_accuracy: 0.9276\n",
            "Epoch 12/20\n",
            "375/375 [==============================] - 1s 4ms/step - loss: 0.2647 - accuracy: 0.9269 - val_loss: 0.2628 - val_accuracy: 0.9292\n",
            "Epoch 13/20\n",
            "375/375 [==============================] - 1s 4ms/step - loss: 0.2630 - accuracy: 0.9281 - val_loss: 0.2620 - val_accuracy: 0.9294\n",
            "Epoch 14/20\n",
            "375/375 [==============================] - 1s 3ms/step - loss: 0.2616 - accuracy: 0.9283 - val_loss: 0.2618 - val_accuracy: 0.9298\n",
            "Epoch 15/20\n",
            "375/375 [==============================] - 1s 4ms/step - loss: 0.2604 - accuracy: 0.9288 - val_loss: 0.2610 - val_accuracy: 0.9308\n",
            "Epoch 16/20\n",
            "375/375 [==============================] - 1s 4ms/step - loss: 0.2592 - accuracy: 0.9291 - val_loss: 0.2610 - val_accuracy: 0.9308\n",
            "Epoch 17/20\n",
            "375/375 [==============================] - 1s 3ms/step - loss: 0.2583 - accuracy: 0.9294 - val_loss: 0.2612 - val_accuracy: 0.9312\n",
            "Epoch 18/20\n",
            "375/375 [==============================] - 1s 3ms/step - loss: 0.2573 - accuracy: 0.9292 - val_loss: 0.2610 - val_accuracy: 0.9304\n",
            "Epoch 19/20\n",
            "375/375 [==============================] - 1s 3ms/step - loss: 0.2565 - accuracy: 0.9298 - val_loss: 0.2622 - val_accuracy: 0.9309\n",
            "Epoch 20/20\n",
            "375/375 [==============================] - 1s 4ms/step - loss: 0.2554 - accuracy: 0.9311 - val_loss: 0.2606 - val_accuracy: 0.9318\n"
          ]
        }
      ],
      "source": [
        "model = keras.Sequential([layers.Dense(10, activation=\"softmax\")])\n",
        "model.compile(optimizer=\"rmsprop\",\n",
        "              loss=\"sparse_categorical_crossentropy\",\n",
        "              metrics=[\"accuracy\"])\n",
        "history_small_model = model.fit(\n",
        "    train_images, train_labels,\n",
        "    epochs=20,\n",
        "    batch_size=128,\n",
        "    validation_split=0.2)"
      ]
    },
    {
      "cell_type": "code",
      "execution_count": 10,
      "metadata": {
        "id": "yKZN3gWdI0VT",
        "outputId": "d9b28313-7e5b-4260-8302-c7ffca62ce27",
        "colab": {
          "base_uri": "https://localhost:8080/",
          "height": 313
        }
      },
      "outputs": [
        {
          "output_type": "execute_result",
          "data": {
            "text/plain": [
              "<matplotlib.legend.Legend at 0x7f8619687a10>"
            ]
          },
          "metadata": {},
          "execution_count": 10
        },
        {
          "output_type": "display_data",
          "data": {
            "text/plain": [
              "<Figure size 432x288 with 1 Axes>"
            ],
            "image/png": "[encoded data removed]"
          },
          "metadata": {
            "needs_background": "light"
          }
        }
      ],
      "source": [
        "import matplotlib.pyplot as plt\n",
        "val_loss = history_small_model.history[\"val_loss\"]\n",
        "epochs = range(1, 21)\n",
        "plt.plot(epochs, val_loss, \"b--\",\n",
        "         label=\"Validation loss\")\n",
        "plt.title(\"Effect of insufficient model capacity on validation loss\")\n",
        "plt.xlabel(\"Epochs\")\n",
        "plt.ylabel(\"Loss\")\n",
        "plt.legend()"
      ]
    },
    {
      "cell_type": "code",
      "execution_count": 11,
      "metadata": {
        "id": "QiUbm4XeI0VU",
        "outputId": "a4c8cdae-6764-4674-f99a-08b52bacc42a",
        "colab": {
          "base_uri": "https://localhost:8080/"
        }
      },
      "outputs": [
        {
          "output_type": "stream",
          "name": "stdout",
          "text": [
            "Epoch 1/20\n",
            "375/375 [==============================] - 3s 6ms/step - loss: 0.3611 - accuracy: 0.8981 - val_loss: 0.1885 - val_accuracy: 0.9448\n",
            "Epoch 2/20\n",
            "375/375 [==============================] - 2s 6ms/step - loss: 0.1585 - accuracy: 0.9527 - val_loss: 0.1402 - val_accuracy: 0.9582\n",
            "Epoch 3/20\n",
            "375/375 [==============================] - 2s 6ms/step - loss: 0.1095 - accuracy: 0.9681 - val_loss: 0.1296 - val_accuracy: 0.9620\n",
            "Epoch 4/20\n",
            "375/375 [==============================] - 2s 6ms/step - loss: 0.0846 - accuracy: 0.9747 - val_loss: 0.1030 - val_accuracy: 0.9689\n",
            "Epoch 5/20\n",
            "375/375 [==============================] - 2s 6ms/step - loss: 0.0674 - accuracy: 0.9795 - val_loss: 0.1022 - val_accuracy: 0.9699\n",
            "Epoch 6/20\n",
            "375/375 [==============================] - 2s 6ms/step - loss: 0.0543 - accuracy: 0.9833 - val_loss: 0.0943 - val_accuracy: 0.9729\n",
            "Epoch 7/20\n",
            "375/375 [==============================] - 2s 6ms/step - loss: 0.0463 - accuracy: 0.9854 - val_loss: 0.0892 - val_accuracy: 0.9749\n",
            "Epoch 8/20\n",
            "375/375 [==============================] - 2s 6ms/step - loss: 0.0376 - accuracy: 0.9885 - val_loss: 0.1014 - val_accuracy: 0.9727\n",
            "Epoch 9/20\n",
            "375/375 [==============================] - 2s 6ms/step - loss: 0.0310 - accuracy: 0.9910 - val_loss: 0.0994 - val_accuracy: 0.9730\n",
            "Epoch 10/20\n",
            "375/375 [==============================] - 2s 6ms/step - loss: 0.0269 - accuracy: 0.9914 - val_loss: 0.1191 - val_accuracy: 0.9703\n",
            "Epoch 11/20\n",
            "375/375 [==============================] - 2s 6ms/step - loss: 0.0222 - accuracy: 0.9933 - val_loss: 0.0988 - val_accuracy: 0.9762\n",
            "Epoch 12/20\n",
            "375/375 [==============================] - 3s 8ms/step - loss: 0.0184 - accuracy: 0.9943 - val_loss: 0.1107 - val_accuracy: 0.9736\n",
            "Epoch 13/20\n",
            "375/375 [==============================] - 3s 7ms/step - loss: 0.0148 - accuracy: 0.9958 - val_loss: 0.1159 - val_accuracy: 0.9725\n",
            "Epoch 14/20\n",
            "375/375 [==============================] - 2s 6ms/step - loss: 0.0135 - accuracy: 0.9961 - val_loss: 0.1105 - val_accuracy: 0.9754\n",
            "Epoch 15/20\n",
            "375/375 [==============================] - 2s 6ms/step - loss: 0.0114 - accuracy: 0.9964 - val_loss: 0.1162 - val_accuracy: 0.9751\n",
            "Epoch 16/20\n",
            "375/375 [==============================] - 2s 6ms/step - loss: 0.0089 - accuracy: 0.9973 - val_loss: 0.1250 - val_accuracy: 0.9731\n",
            "Epoch 17/20\n",
            "375/375 [==============================] - 2s 6ms/step - loss: 0.0091 - accuracy: 0.9971 - val_loss: 0.1247 - val_accuracy: 0.9747\n",
            "Epoch 18/20\n",
            "375/375 [==============================] - 2s 6ms/step - loss: 0.0067 - accuracy: 0.9980 - val_loss: 0.1361 - val_accuracy: 0.9743\n",
            "Epoch 19/20\n",
            "375/375 [==============================] - 2s 6ms/step - loss: 0.0057 - accuracy: 0.9982 - val_loss: 0.1414 - val_accuracy: 0.9726\n",
            "Epoch 20/20\n",
            "375/375 [==============================] - 2s 6ms/step - loss: 0.0047 - accuracy: 0.9986 - val_loss: 0.1450 - val_accuracy: 0.9744\n"
          ]
        }
      ],
      "source": [
        "model = keras.Sequential([\n",
        "    layers.Dense(96, activation=\"relu\"),\n",
        "    layers.Dense(96, activation=\"relu\"),\n",
        "    layers.Dense(10, activation=\"softmax\"),\n",
        "])\n",
        "model.compile(optimizer=\"rmsprop\",\n",
        "              loss=\"sparse_categorical_crossentropy\",\n",
        "              metrics=[\"accuracy\"])\n",
        "history_large_model = model.fit(\n",
        "    train_images, train_labels,\n",
        "    epochs=20,\n",
        "    batch_size=128,\n",
        "    validation_split=0.2)"
      ]
    },
    {
      "cell_type": "markdown",
      "metadata": {
        "id": "Bk-pmWu6I0VU"
      },
      "source": [
        "## Improving generalization"
      ]
    },
    {
      "cell_type": "markdown",
      "metadata": {
        "id": "J95tnT03I0VU"
      },
      "source": [
        "### Dataset curation"
      ]
    },
    {
      "cell_type": "markdown",
      "metadata": {
        "id": "NhD5dJc9I0VU"
      },
      "source": [
        "### Feature engineering"
      ]
    },
    {
      "cell_type": "markdown",
      "metadata": {
        "id": "2yD8unVcI0VU"
      },
      "source": [
        "### Using early stopping"
      ]
    },
    {
      "cell_type": "markdown",
      "metadata": {
        "id": "E_3X-IDLI0VU"
      },
      "source": [
        "### Regularizing your model"
      ]
    },
    {
      "cell_type": "markdown",
      "metadata": {
        "id": "C8bOL-6II0VU"
      },
      "source": [
        "#### Reducing the network's size"
      ]
    },
    {
      "cell_type": "markdown",
      "metadata": {
        "id": "JzLyqTm2I0VU"
      },
      "source": [
        "**Original model**"
      ]
    },
    {
      "cell_type": "code",
      "execution_count": 12,
      "metadata": {
        "id": "BmWrlVT4I0VV",
        "outputId": "2030c2c3-99e2-4e8a-b2e5-3a356b7b682e",
        "colab": {
          "base_uri": "https://localhost:8080/"
        }
      },
      "outputs": [
        {
          "output_type": "stream",
          "name": "stdout",
          "text": [
            "Downloading data from https://storage.googleapis.com/tensorflow/tf-keras-datasets/imdb.npz\n",
            "17464789/17464789 [==============================] - 0s 0us/step\n",
            "Epoch 1/20\n",
            "30/30 [==============================] - 3s 53ms/step - loss: 0.5786 - accuracy: 0.7227 - val_loss: 0.4780 - val_accuracy: 0.8548\n",
            "Epoch 2/20\n",
            "30/30 [==============================] - 1s 38ms/step - loss: 0.3604 - accuracy: 0.8943 - val_loss: 0.3308 - val_accuracy: 0.8855\n",
            "Epoch 3/20\n",
            "30/30 [==============================] - 1s 38ms/step - loss: 0.2540 - accuracy: 0.9221 - val_loss: 0.2890 - val_accuracy: 0.8896\n",
            "Epoch 4/20\n",
            "30/30 [==============================] - 1s 38ms/step - loss: 0.1942 - accuracy: 0.9406 - val_loss: 0.2819 - val_accuracy: 0.8893\n",
            "Epoch 5/20\n",
            "30/30 [==============================] - 1s 39ms/step - loss: 0.1574 - accuracy: 0.9507 - val_loss: 0.2780 - val_accuracy: 0.8908\n",
            "Epoch 6/20\n",
            "30/30 [==============================] - 1s 41ms/step - loss: 0.1285 - accuracy: 0.9607 - val_loss: 0.2927 - val_accuracy: 0.8858\n",
            "Epoch 7/20\n",
            "30/30 [==============================] - 1s 39ms/step - loss: 0.1069 - accuracy: 0.9685 - val_loss: 0.3061 - val_accuracy: 0.8865\n",
            "Epoch 8/20\n",
            "30/30 [==============================] - 1s 38ms/step - loss: 0.0876 - accuracy: 0.9757 - val_loss: 0.3342 - val_accuracy: 0.8826\n",
            "Epoch 9/20\n",
            "30/30 [==============================] - 1s 38ms/step - loss: 0.0730 - accuracy: 0.9798 - val_loss: 0.3715 - val_accuracy: 0.8700\n",
            "Epoch 10/20\n",
            "30/30 [==============================] - 1s 39ms/step - loss: 0.0600 - accuracy: 0.9851 - val_loss: 0.3706 - val_accuracy: 0.8792\n",
            "Epoch 11/20\n",
            "30/30 [==============================] - 1s 38ms/step - loss: 0.0492 - accuracy: 0.9881 - val_loss: 0.4035 - val_accuracy: 0.8763\n",
            "Epoch 12/20\n",
            "30/30 [==============================] - 1s 38ms/step - loss: 0.0400 - accuracy: 0.9906 - val_loss: 0.4692 - val_accuracy: 0.8721\n",
            "Epoch 13/20\n",
            "30/30 [==============================] - 1s 39ms/step - loss: 0.0327 - accuracy: 0.9928 - val_loss: 0.4892 - val_accuracy: 0.8715\n",
            "Epoch 14/20\n",
            "30/30 [==============================] - 1s 42ms/step - loss: 0.0249 - accuracy: 0.9953 - val_loss: 0.5141 - val_accuracy: 0.8715\n",
            "Epoch 15/20\n",
            "30/30 [==============================] - 1s 39ms/step - loss: 0.0196 - accuracy: 0.9965 - val_loss: 0.5259 - val_accuracy: 0.8720\n",
            "Epoch 16/20\n",
            "30/30 [==============================] - 1s 39ms/step - loss: 0.0185 - accuracy: 0.9964 - val_loss: 0.5881 - val_accuracy: 0.8693\n",
            "Epoch 17/20\n",
            "30/30 [==============================] - 1s 39ms/step - loss: 0.0103 - accuracy: 0.9988 - val_loss: 0.6430 - val_accuracy: 0.8677\n",
            "Epoch 18/20\n",
            "30/30 [==============================] - 1s 39ms/step - loss: 0.0120 - accuracy: 0.9977 - val_loss: 0.6343 - val_accuracy: 0.8691\n",
            "Epoch 19/20\n",
            "30/30 [==============================] - 1s 39ms/step - loss: 0.0060 - accuracy: 0.9994 - val_loss: 0.6774 - val_accuracy: 0.8682\n",
            "Epoch 20/20\n",
            "30/30 [==============================] - 1s 40ms/step - loss: 0.0083 - accuracy: 0.9986 - val_loss: 0.7043 - val_accuracy: 0.8661\n"
          ]
        }
      ],
      "source": [
        "from tensorflow.keras.datasets import imdb\n",
        "(train_data, train_labels), _ = imdb.load_data(num_words=10000)\n",
        "\n",
        "def vectorize_sequences(sequences, dimension=10000):\n",
        "    results = np.zeros((len(sequences), dimension))\n",
        "    for i, sequence in enumerate(sequences):\n",
        "        results[i, sequence] = 1.\n",
        "    return results\n",
        "train_data = vectorize_sequences(train_data)\n",
        "\n",
        "model = keras.Sequential([\n",
        "    layers.Dense(16, activation=\"relu\"),\n",
        "    layers.Dense(16, activation=\"relu\"),\n",
        "    layers.Dense(1, activation=\"sigmoid\")\n",
        "])\n",
        "model.compile(optimizer=\"rmsprop\",\n",
        "              loss=\"binary_crossentropy\",\n",
        "              metrics=[\"accuracy\"])\n",
        "history_original = model.fit(train_data, train_labels,\n",
        "                             epochs=20, batch_size=512, validation_split=0.4)"
      ]
    },
    {
      "cell_type": "markdown",
      "metadata": {
        "id": "yuOOizEoI0VV"
      },
      "source": [
        "**Version of the model with lower capacity**"
      ]
    },
    {
      "cell_type": "code",
      "execution_count": 13,
      "metadata": {
        "id": "Un5EDsgsI0VV",
        "outputId": "f045b04c-0645-49f9-8ac3-78d4f76534b7",
        "colab": {
          "base_uri": "https://localhost:8080/"
        }
      },
      "outputs": [
        {
          "output_type": "stream",
          "name": "stdout",
          "text": [
            "Epoch 1/20\n",
            "30/30 [==============================] - 2s 50ms/step - loss: 0.6133 - accuracy: 0.6644 - val_loss: 0.5535 - val_accuracy: 0.7781\n",
            "Epoch 2/20\n",
            "30/30 [==============================] - 1s 36ms/step - loss: 0.5156 - accuracy: 0.8069 - val_loss: 0.5077 - val_accuracy: 0.8352\n",
            "Epoch 3/20\n",
            "30/30 [==============================] - 1s 37ms/step - loss: 0.4669 - accuracy: 0.8655 - val_loss: 0.4867 - val_accuracy: 0.8182\n",
            "Epoch 4/20\n",
            "30/30 [==============================] - 1s 39ms/step - loss: 0.4340 - accuracy: 0.8976 - val_loss: 0.4725 - val_accuracy: 0.8420\n",
            "Epoch 5/20\n",
            "30/30 [==============================] - 1s 36ms/step - loss: 0.4076 - accuracy: 0.9183 - val_loss: 0.4543 - val_accuracy: 0.8821\n",
            "Epoch 6/20\n",
            "30/30 [==============================] - 1s 37ms/step - loss: 0.3874 - accuracy: 0.9362 - val_loss: 0.4589 - val_accuracy: 0.8586\n",
            "Epoch 7/20\n",
            "30/30 [==============================] - 1s 37ms/step - loss: 0.3690 - accuracy: 0.9464 - val_loss: 0.4610 - val_accuracy: 0.8590\n",
            "Epoch 8/20\n",
            "30/30 [==============================] - 1s 38ms/step - loss: 0.3538 - accuracy: 0.9559 - val_loss: 0.4512 - val_accuracy: 0.8710\n",
            "Epoch 9/20\n",
            "30/30 [==============================] - 1s 36ms/step - loss: 0.3384 - accuracy: 0.9640 - val_loss: 0.4406 - val_accuracy: 0.8805\n",
            "Epoch 10/20\n",
            "30/30 [==============================] - 1s 38ms/step - loss: 0.3259 - accuracy: 0.9687 - val_loss: 0.5221 - val_accuracy: 0.8394\n",
            "Epoch 11/20\n",
            "30/30 [==============================] - 1s 39ms/step - loss: 0.3150 - accuracy: 0.9705 - val_loss: 0.4659 - val_accuracy: 0.8696\n",
            "Epoch 12/20\n",
            "30/30 [==============================] - 1s 38ms/step - loss: 0.3035 - accuracy: 0.9761 - val_loss: 0.5164 - val_accuracy: 0.8508\n",
            "Epoch 13/20\n",
            "30/30 [==============================] - 1s 36ms/step - loss: 0.2936 - accuracy: 0.9785 - val_loss: 0.5158 - val_accuracy: 0.8566\n",
            "Epoch 14/20\n",
            "30/30 [==============================] - 1s 37ms/step - loss: 0.2838 - accuracy: 0.9805 - val_loss: 0.4929 - val_accuracy: 0.8653\n",
            "Epoch 15/20\n",
            "30/30 [==============================] - 1s 37ms/step - loss: 0.2754 - accuracy: 0.9823 - val_loss: 0.4543 - val_accuracy: 0.8744\n",
            "Epoch 16/20\n",
            "30/30 [==============================] - 1s 38ms/step - loss: 0.2672 - accuracy: 0.9842 - val_loss: 0.5767 - val_accuracy: 0.8509\n",
            "Epoch 17/20\n",
            "30/30 [==============================] - 1s 36ms/step - loss: 0.2600 - accuracy: 0.9853 - val_loss: 0.5469 - val_accuracy: 0.8597\n",
            "Epoch 18/20\n",
            "30/30 [==============================] - 1s 37ms/step - loss: 0.2525 - accuracy: 0.9861 - val_loss: 0.4885 - val_accuracy: 0.8710\n",
            "Epoch 19/20\n",
            "30/30 [==============================] - 1s 36ms/step - loss: 0.2455 - accuracy: 0.9867 - val_loss: 0.5268 - val_accuracy: 0.8676\n",
            "Epoch 20/20\n",
            "30/30 [==============================] - 1s 36ms/step - loss: 0.2387 - accuracy: 0.9879 - val_loss: 0.5979 - val_accuracy: 0.8605\n"
          ]
        }
      ],
      "source": [
        "model = keras.Sequential([\n",
        "    layers.Dense(4, activation=\"relu\"),\n",
        "    layers.Dense(4, activation=\"relu\"),\n",
        "    layers.Dense(1, activation=\"sigmoid\")\n",
        "])\n",
        "model.compile(optimizer=\"rmsprop\",\n",
        "              loss=\"binary_crossentropy\",\n",
        "              metrics=[\"accuracy\"])\n",
        "history_smaller_model = model.fit(\n",
        "    train_data, train_labels,\n",
        "    epochs=20, batch_size=512, validation_split=0.4)"
      ]
    },
    {
      "cell_type": "markdown",
      "metadata": {
        "id": "HZwO0SIDI0VV"
      },
      "source": [
        "**Version of the model with higher capacity**"
      ]
    },
    {
      "cell_type": "code",
      "execution_count": 14,
      "metadata": {
        "id": "1USwN92xI0VV",
        "outputId": "473dcbcd-6085-4fd9-8d02-32891e52875a",
        "colab": {
          "base_uri": "https://localhost:8080/"
        }
      },
      "outputs": [
        {
          "output_type": "stream",
          "name": "stdout",
          "text": [
            "Epoch 1/20\n",
            "30/30 [==============================] - 11s 328ms/step - loss: 0.5464 - accuracy: 0.7491 - val_loss: 0.3174 - val_accuracy: 0.8830\n",
            "Epoch 2/20\n",
            "30/30 [==============================] - 9s 316ms/step - loss: 0.2479 - accuracy: 0.9062 - val_loss: 0.4134 - val_accuracy: 0.8154\n",
            "Epoch 3/20\n",
            "30/30 [==============================] - 9s 313ms/step - loss: 0.1550 - accuracy: 0.9409 - val_loss: 0.2872 - val_accuracy: 0.8877\n",
            "Epoch 4/20\n",
            "30/30 [==============================] - 9s 316ms/step - loss: 0.0832 - accuracy: 0.9742 - val_loss: 0.3754 - val_accuracy: 0.8852\n",
            "Epoch 5/20\n",
            "30/30 [==============================] - 9s 314ms/step - loss: 0.1117 - accuracy: 0.9755 - val_loss: 0.3514 - val_accuracy: 0.8872\n",
            "Epoch 6/20\n",
            "30/30 [==============================] - 9s 309ms/step - loss: 0.0056 - accuracy: 0.9993 - val_loss: 0.4992 - val_accuracy: 0.8869\n",
            "Epoch 7/20\n",
            "30/30 [==============================] - 11s 357ms/step - loss: 8.3959e-04 - accuracy: 0.9999 - val_loss: 0.6337 - val_accuracy: 0.8859\n",
            "Epoch 8/20\n",
            "30/30 [==============================] - 9s 316ms/step - loss: 1.2326e-04 - accuracy: 1.0000 - val_loss: 0.7473 - val_accuracy: 0.8855\n",
            "Epoch 9/20\n",
            "30/30 [==============================] - 9s 309ms/step - loss: 0.3015 - accuracy: 0.9775 - val_loss: 0.6203 - val_accuracy: 0.8725\n",
            "Epoch 10/20\n",
            "30/30 [==============================] - 9s 310ms/step - loss: 3.0860e-04 - accuracy: 1.0000 - val_loss: 0.6315 - val_accuracy: 0.8828\n",
            "Epoch 11/20\n",
            "30/30 [==============================] - 9s 310ms/step - loss: 8.3386e-05 - accuracy: 1.0000 - val_loss: 0.6845 - val_accuracy: 0.8831\n",
            "Epoch 12/20\n",
            "30/30 [==============================] - 9s 307ms/step - loss: 3.3867e-05 - accuracy: 1.0000 - val_loss: 0.7546 - val_accuracy: 0.8827\n",
            "Epoch 13/20\n",
            "30/30 [==============================] - 9s 309ms/step - loss: 1.1764e-05 - accuracy: 1.0000 - val_loss: 0.8401 - val_accuracy: 0.8817\n",
            "Epoch 14/20\n",
            "30/30 [==============================] - 9s 312ms/step - loss: 3.7618e-06 - accuracy: 1.0000 - val_loss: 0.9363 - val_accuracy: 0.8834\n",
            "Epoch 15/20\n",
            "30/30 [==============================] - 9s 309ms/step - loss: 1.2931e-06 - accuracy: 1.0000 - val_loss: 1.0219 - val_accuracy: 0.8837\n",
            "Epoch 16/20\n",
            "30/30 [==============================] - 9s 308ms/step - loss: 4.7303e-07 - accuracy: 1.0000 - val_loss: 1.1046 - val_accuracy: 0.8838\n",
            "Epoch 17/20\n",
            "30/30 [==============================] - 9s 313ms/step - loss: 1.7515e-07 - accuracy: 1.0000 - val_loss: 1.1767 - val_accuracy: 0.8838\n",
            "Epoch 18/20\n",
            "30/30 [==============================] - 9s 310ms/step - loss: 7.2367e-08 - accuracy: 1.0000 - val_loss: 1.2323 - val_accuracy: 0.8835\n",
            "Epoch 19/20\n",
            "30/30 [==============================] - 9s 309ms/step - loss: 3.5301e-08 - accuracy: 1.0000 - val_loss: 1.2799 - val_accuracy: 0.8838\n",
            "Epoch 20/20\n",
            "30/30 [==============================] - 9s 310ms/step - loss: 2.1748e-08 - accuracy: 1.0000 - val_loss: 1.3087 - val_accuracy: 0.8838\n"
          ]
        }
      ],
      "source": [
        "model = keras.Sequential([\n",
        "    layers.Dense(512, activation=\"relu\"),\n",
        "    layers.Dense(512, activation=\"relu\"),\n",
        "    layers.Dense(1, activation=\"sigmoid\")\n",
        "])\n",
        "model.compile(optimizer=\"rmsprop\",\n",
        "              loss=\"binary_crossentropy\",\n",
        "              metrics=[\"accuracy\"])\n",
        "history_larger_model = model.fit(\n",
        "    train_data, train_labels,\n",
        "    epochs=20, batch_size=512, validation_split=0.4)"
      ]
    },
    {
      "cell_type": "markdown",
      "metadata": {
        "id": "XeqfnuNlI0VV"
      },
      "source": [
        "#### Adding weight regularization"
      ]
    },
    {
      "cell_type": "markdown",
      "metadata": {
        "id": "e20vR08RI0VW"
      },
      "source": [
        "**Adding L2 weight regularization to the model**"
      ]
    },
    {
      "cell_type": "code",
      "execution_count": 15,
      "metadata": {
        "id": "TeeaSu2II0VW",
        "outputId": "9079c047-0656-4891-fd9a-d04b14cfeffa",
        "colab": {
          "base_uri": "https://localhost:8080/"
        }
      },
      "outputs": [
        {
          "output_type": "stream",
          "name": "stdout",
          "text": [
            "Epoch 1/20\n",
            "30/30 [==============================] - 2s 52ms/step - loss: 0.5944 - accuracy: 0.7785 - val_loss: 0.4816 - val_accuracy: 0.8417\n",
            "Epoch 2/20\n",
            "30/30 [==============================] - 1s 39ms/step - loss: 0.3963 - accuracy: 0.8951 - val_loss: 0.4140 - val_accuracy: 0.8652\n",
            "Epoch 3/20\n",
            "30/30 [==============================] - 1s 39ms/step - loss: 0.3258 - accuracy: 0.9203 - val_loss: 0.3638 - val_accuracy: 0.8877\n",
            "Epoch 4/20\n",
            "30/30 [==============================] - 1s 40ms/step - loss: 0.2965 - accuracy: 0.9255 - val_loss: 0.3559 - val_accuracy: 0.8898\n",
            "Epoch 5/20\n",
            "30/30 [==============================] - 1s 40ms/step - loss: 0.2749 - accuracy: 0.9335 - val_loss: 0.3779 - val_accuracy: 0.8767\n",
            "Epoch 6/20\n",
            "30/30 [==============================] - 1s 41ms/step - loss: 0.2626 - accuracy: 0.9381 - val_loss: 0.3599 - val_accuracy: 0.8862\n",
            "Epoch 7/20\n",
            "30/30 [==============================] - 1s 41ms/step - loss: 0.2552 - accuracy: 0.9392 - val_loss: 0.4039 - val_accuracy: 0.8682\n",
            "Epoch 8/20\n",
            "30/30 [==============================] - 1s 40ms/step - loss: 0.2454 - accuracy: 0.9439 - val_loss: 0.3739 - val_accuracy: 0.8817\n",
            "Epoch 9/20\n",
            "30/30 [==============================] - 1s 40ms/step - loss: 0.2401 - accuracy: 0.9465 - val_loss: 0.4298 - val_accuracy: 0.8659\n",
            "Epoch 10/20\n",
            "30/30 [==============================] - 1s 39ms/step - loss: 0.2313 - accuracy: 0.9501 - val_loss: 0.3901 - val_accuracy: 0.8775\n",
            "Epoch 11/20\n",
            "30/30 [==============================] - 1s 39ms/step - loss: 0.2304 - accuracy: 0.9489 - val_loss: 0.3858 - val_accuracy: 0.8792\n",
            "Epoch 12/20\n",
            "30/30 [==============================] - 1s 39ms/step - loss: 0.2273 - accuracy: 0.9494 - val_loss: 0.4038 - val_accuracy: 0.8755\n",
            "Epoch 13/20\n",
            "30/30 [==============================] - 1s 40ms/step - loss: 0.2239 - accuracy: 0.9504 - val_loss: 0.3939 - val_accuracy: 0.8779\n",
            "Epoch 14/20\n",
            "30/30 [==============================] - 1s 39ms/step - loss: 0.2195 - accuracy: 0.9541 - val_loss: 0.4128 - val_accuracy: 0.8716\n",
            "Epoch 15/20\n",
            "30/30 [==============================] - 1s 38ms/step - loss: 0.2107 - accuracy: 0.9567 - val_loss: 0.5157 - val_accuracy: 0.8467\n",
            "Epoch 16/20\n",
            "30/30 [==============================] - 1s 38ms/step - loss: 0.2206 - accuracy: 0.9527 - val_loss: 0.4024 - val_accuracy: 0.8761\n",
            "Epoch 17/20\n",
            "30/30 [==============================] - 1s 39ms/step - loss: 0.2037 - accuracy: 0.9606 - val_loss: 0.4089 - val_accuracy: 0.8764\n",
            "Epoch 18/20\n",
            "30/30 [==============================] - 1s 39ms/step - loss: 0.2130 - accuracy: 0.9543 - val_loss: 0.4082 - val_accuracy: 0.8766\n",
            "Epoch 19/20\n",
            "30/30 [==============================] - 1s 40ms/step - loss: 0.2098 - accuracy: 0.9563 - val_loss: 0.4158 - val_accuracy: 0.8737\n",
            "Epoch 20/20\n",
            "30/30 [==============================] - 2s 52ms/step - loss: 0.2054 - accuracy: 0.9581 - val_loss: 0.4318 - val_accuracy: 0.8712\n"
          ]
        }
      ],
      "source": [
        "from tensorflow.keras import regularizers\n",
        "model = keras.Sequential([\n",
        "    layers.Dense(16,\n",
        "                 kernel_regularizer=regularizers.l2(0.002),\n",
        "                 activation=\"relu\"),\n",
        "    layers.Dense(16,\n",
        "                 kernel_regularizer=regularizers.l2(0.002),\n",
        "                 activation=\"relu\"),\n",
        "    layers.Dense(1, activation=\"sigmoid\")\n",
        "])\n",
        "model.compile(optimizer=\"rmsprop\",\n",
        "              loss=\"binary_crossentropy\",\n",
        "              metrics=[\"accuracy\"])\n",
        "history_l2_reg = model.fit(\n",
        "    train_data, train_labels,\n",
        "    epochs=20, batch_size=512, validation_split=0.4)"
      ]
    },
    {
      "cell_type": "markdown",
      "metadata": {
        "id": "42XHctuNI0VW"
      },
      "source": [
        "**Different weight regularizers available in Keras**"
      ]
    },
    {
      "cell_type": "code",
      "execution_count": 16,
      "metadata": {
        "id": "Ikt4ExOjI0VW",
        "outputId": "8afeeead-aa78-47b2-cdf4-a03b5340ab27",
        "colab": {
          "base_uri": "https://localhost:8080/"
        }
      },
      "outputs": [
        {
          "output_type": "execute_result",
          "data": {
            "text/plain": [
              "<keras.regularizers.L1L2 at 0x7f861955b190>"
            ]
          },
          "metadata": {},
          "execution_count": 16
        }
      ],
      "source": [
        "from tensorflow.keras import regularizers\n",
        "regularizers.l1(0.001)\n",
        "regularizers.l1_l2(l1=0.001, l2=0.001)"
      ]
    },
    {
      "cell_type": "markdown",
      "metadata": {
        "id": "6ZzsyS78I0VW"
      },
      "source": [
        "#### Adding dropout"
      ]
    },
    {
      "cell_type": "markdown",
      "metadata": {
        "id": "YtIuaJFTI0VW"
      },
      "source": [
        "**Adding dropout to the IMDB model**"
      ]
    },
    {
      "cell_type": "code",
      "execution_count": 17,
      "metadata": {
        "id": "OdoN3vVsI0VX",
        "outputId": "273b69a6-f334-4cb7-a6f2-e5f46a9d6612",
        "colab": {
          "base_uri": "https://localhost:8080/"
        }
      },
      "outputs": [
        {
          "output_type": "stream",
          "name": "stdout",
          "text": [
            "Epoch 1/20\n",
            "30/30 [==============================] - 3s 51ms/step - loss: 0.6449 - accuracy: 0.6135 - val_loss: 0.5549 - val_accuracy: 0.8449\n",
            "Epoch 2/20\n",
            "30/30 [==============================] - 1s 39ms/step - loss: 0.5313 - accuracy: 0.7485 - val_loss: 0.4415 - val_accuracy: 0.8681\n",
            "Epoch 3/20\n",
            "30/30 [==============================] - 1s 39ms/step - loss: 0.4516 - accuracy: 0.8107 - val_loss: 0.3682 - val_accuracy: 0.8827\n",
            "Epoch 4/20\n",
            "30/30 [==============================] - 1s 38ms/step - loss: 0.3956 - accuracy: 0.8451 - val_loss: 0.3264 - val_accuracy: 0.8841\n",
            "Epoch 5/20\n",
            "30/30 [==============================] - 1s 38ms/step - loss: 0.3446 - accuracy: 0.8747 - val_loss: 0.3017 - val_accuracy: 0.8897\n",
            "Epoch 6/20\n",
            "30/30 [==============================] - 1s 39ms/step - loss: 0.3140 - accuracy: 0.8924 - val_loss: 0.2928 - val_accuracy: 0.8809\n",
            "Epoch 7/20\n",
            "30/30 [==============================] - 2s 58ms/step - loss: 0.2781 - accuracy: 0.9058 - val_loss: 0.2746 - val_accuracy: 0.8915\n",
            "Epoch 8/20\n",
            "30/30 [==============================] - 2s 75ms/step - loss: 0.2433 - accuracy: 0.9199 - val_loss: 0.2841 - val_accuracy: 0.8928\n",
            "Epoch 9/20\n",
            "30/30 [==============================] - 1s 41ms/step - loss: 0.2173 - accuracy: 0.9294 - val_loss: 0.2843 - val_accuracy: 0.8890\n",
            "Epoch 10/20\n",
            "30/30 [==============================] - 1s 39ms/step - loss: 0.1970 - accuracy: 0.9367 - val_loss: 0.2946 - val_accuracy: 0.8908\n",
            "Epoch 11/20\n",
            "30/30 [==============================] - 1s 40ms/step - loss: 0.1802 - accuracy: 0.9417 - val_loss: 0.3349 - val_accuracy: 0.8886\n",
            "Epoch 12/20\n",
            "30/30 [==============================] - 1s 39ms/step - loss: 0.1646 - accuracy: 0.9481 - val_loss: 0.3356 - val_accuracy: 0.8892\n",
            "Epoch 13/20\n",
            "30/30 [==============================] - 1s 40ms/step - loss: 0.1477 - accuracy: 0.9545 - val_loss: 0.3623 - val_accuracy: 0.8880\n",
            "Epoch 14/20\n",
            "30/30 [==============================] - 1s 41ms/step - loss: 0.1368 - accuracy: 0.9547 - val_loss: 0.3747 - val_accuracy: 0.8855\n",
            "Epoch 15/20\n",
            "30/30 [==============================] - 1s 40ms/step - loss: 0.1304 - accuracy: 0.9596 - val_loss: 0.4146 - val_accuracy: 0.8851\n",
            "Epoch 16/20\n",
            "30/30 [==============================] - 1s 41ms/step - loss: 0.1181 - accuracy: 0.9612 - val_loss: 0.4100 - val_accuracy: 0.8885\n",
            "Epoch 17/20\n",
            "30/30 [==============================] - 1s 40ms/step - loss: 0.1093 - accuracy: 0.9630 - val_loss: 0.4468 - val_accuracy: 0.8876\n",
            "Epoch 18/20\n",
            "30/30 [==============================] - 1s 40ms/step - loss: 0.1023 - accuracy: 0.9657 - val_loss: 0.4759 - val_accuracy: 0.8870\n",
            "Epoch 19/20\n",
            "30/30 [==============================] - 1s 40ms/step - loss: 0.0998 - accuracy: 0.9669 - val_loss: 0.4863 - val_accuracy: 0.8858\n",
            "Epoch 20/20\n",
            "30/30 [==============================] - 1s 41ms/step - loss: 0.0971 - accuracy: 0.9665 - val_loss: 0.5111 - val_accuracy: 0.8828\n"
          ]
        }
      ],
      "source": [
        "model = keras.Sequential([\n",
        "    layers.Dense(16, activation=\"relu\"),\n",
        "    layers.Dropout(0.5),\n",
        "    layers.Dense(16, activation=\"relu\"),\n",
        "    layers.Dropout(0.5),\n",
        "    layers.Dense(1, activation=\"sigmoid\")\n",
        "])\n",
        "model.compile(optimizer=\"rmsprop\",\n",
        "              loss=\"binary_crossentropy\",\n",
        "              metrics=[\"accuracy\"])\n",
        "history_dropout = model.fit(\n",
        "    train_data, train_labels,\n",
        "    epochs=20, batch_size=512, validation_split=0.4)"
      ]
    },
    {
      "cell_type": "markdown",
      "metadata": {
        "id": "usHZkrY7I0VX"
      },
      "source": [
        "## Summary"
      ]
    }
  ],
  "metadata": {
    "colab": {
      "collapsed_sections": [],
      "name": "chapter05_fundamentals-of-ml.i",
      "provenance": []
    },
    "kernelspec": {
      "display_name": "Python 3",
      "language": "python",
      "name": "python3"
    },
    "language_info": {
      "codemirror_mode": {
        "name": "ipython",
        "version": 3
      },
      "file_extension": ".py",
      "mimetype": "text/x-python",
      "name": "python",
      "nbconvert_exporter": "python",
      "pygments_lexer": "ipython3",
      "version": "3.7.0"
    }
  },
  "nbformat": 4,
  "nbformat_minor": 0
}